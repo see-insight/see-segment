{
 "cells": [
  {
   "cell_type": "markdown",
   "id": "a56fed56-d33a-4e7f-948d-26856300c800",
   "metadata": {},
   "source": [
    "Import packages:"
   ]
  },
  {
   "cell_type": "code",
   "execution_count": null,
   "id": "0efbad89-66df-47be-9f1a-d6f8a16aaa86",
   "metadata": {},
   "outputs": [],
   "source": [
    "%matplotlib inline\n",
    "import matplotlib.pylab as plt\n",
    "from see import Segmentors\n",
    "from see import JupyterGUI"
   ]
  },
  {
   "cell_type": "markdown",
   "id": "07630b31-4115-4ce4-bc8b-dc529aa6e07e",
   "metadata": {},
   "source": [
    "Download data from KOMATSUNA:"
   ]
  },
  {
   "cell_type": "code",
   "execution_count": null,
   "id": "765c838e-edd8-452f-950c-33f1e28cd27d",
   "metadata": {},
   "outputs": [],
   "source": [
    "#The following code will download the dataset to the Images_Data folder\n",
    "from see import DataDownload as dd\n",
    "\n",
    "dd.downloadKOMATSUNA(folder='./Image_Data/KOMATSUNA/')"
   ]
  },
  {
   "cell_type": "code",
   "execution_count": null,
   "id": "7cbd1c97-9121-48af-a853-342dd651ff65",
   "metadata": {},
   "outputs": [],
   "source": [
    "from imageio import v3 as imageio\n",
    "\n",
    "img1 = imageio.imread('Image_data/KOMATSUNA/rgbd_plant/rgb_00_000_00.png')\n",
    "gmask1 = imageio.imread('Image_data/KOMATSUNA/rgbd_label/label_00_000_00.png')\n",
    "\n",
    "img2 = imageio.imread('Image_data/KOMATSUNA/rgbd_plant/rgb_00_000_01.png')\n",
    "gmask2 = imageio.imread('Image_data/KOMATSUNA/rgbd_label/label_00_000_01.png')\n",
    "\n",
    "img3 = imageio.imread('Image_data/KOMATSUNA/rgbd_plant/rgb_00_000_02.png')\n",
    "gmask3 = imageio.imread('Image_data/KOMATSUNA/rgbd_label/label_00_000_02.png')\n",
    "\n",
    "img4 = imageio.imread('Image_data/KOMATSUNA/rgbd_plant/rgb_00_000_03.png')\n",
    "gmask4 = imageio.imread('Image_data/KOMATSUNA/rgbd_label/label_00_000_03.png')\n"
   ]
  },
  {
   "cell_type": "code",
   "execution_count": null,
   "id": "411ac7f1-0dc0-43f7-b74f-9dba8c42c6c8",
   "metadata": {},
   "outputs": [],
   "source": [
    "from see import base_classes\n",
    "\n",
    "# put data in a pipeline\n",
    "mydata = base_classes.pipedata()\n",
    "mydata.append(img1)\n",
    "mydata.append(img2)\n",
    "mydata.append(img3)\n",
    "mydata.append(img4)\n",
    "mydata.gtruth = []\n",
    "mydata.gtruth.append(gmask1)\n",
    "mydata.gtruth.append(gmask2)\n",
    "mydata.gtruth.append(gmask3)\n",
    "mydata.gtruth.append(gmask4)"
   ]
  },
  {
   "cell_type": "markdown",
   "id": "e3bd4ad6-0db0-4a8d-9de5-aab3a0e21195",
   "metadata": {},
   "source": [
    "----\n",
    "<a name=\"Genetic_Algorithm_Search\"></a>\n",
    "\n",
    "## Genetic Algorithm Search"
   ]
  },
  {
   "cell_type": "markdown",
   "id": "875c4435-3135-4c19-bb52-64d4aa8418f8",
   "metadata": {},
   "source": [
    "First import image files, as well as the following packages:"
   ]
  },
  {
   "cell_type": "code",
   "execution_count": null,
   "id": "8aa8c7b4-35ef-40f5-9134-9b0c109bed93",
   "metadata": {},
   "outputs": [],
   "source": [
    "from see.Segmentors import segmentor\n",
    "from see.ColorSpace import colorspace\n",
    "from see.Workflow import workflow\n",
    "from see.Segment_Fitness import segment_fitness\n",
    "from see import base_classes, GeneticSearch\n",
    "\n",
    "#define an algorithm workflow\n",
    "workflow.addalgos([colorspace, segmentor, segment_fitness])"
   ]
  },
  {
   "cell_type": "markdown",
   "id": "7371d326-9c97-4589-bc7c-e3f3f81fae10",
   "metadata": {},
   "source": [
    "To run the genetic algorithm, we need to initialize an instance of an evolver. The original image and ground truth segmentation image are inputs to it, along with an integer value for population size. This value sets how many indivudals are in our population. For this example, we'll set this number to be equal to 10."
   ]
  },
  {
   "cell_type": "code",
   "execution_count": null,
   "id": "cc7ba2a9-ec5e-439c-8e7e-b18828910597",
   "metadata": {},
   "outputs": [],
   "source": [
    "#TODO This needs to be fixed Using the new syntax.\n",
    "#my_evolver = GeneticSearch.Evolver(workflow, mydata, pop_size=10)\n",
    "my_evolver = GeneticSearch.Evolver(workflow, mydata, pop_size=10)"
   ]
  },
  {
   "cell_type": "markdown",
   "id": "cbb02672-3e37-4eaa-8b65-95c7c52d7f19",
   "metadata": {},
   "source": [
    "Now that the evolver has been initialized, we can run the genetic algorithm for a specified number of generations (or iterations). Here we will set this number equal to 5."
   ]
  },
  {
   "cell_type": "code",
   "execution_count": null,
   "id": "8c6c1337-5485-4d7c-accb-0a6217b83b13",
   "metadata": {},
   "outputs": [],
   "source": [
    "population = my_evolver.run(ngen=5)"
   ]
  },
  {
   "cell_type": "code",
   "execution_count": null,
   "id": "503015f1-5b66-49ef-9ae7-2bd9d5fdf579",
   "metadata": {},
   "outputs": [],
   "source": [
    "print(my_evolver.hof[0].fitness)"
   ]
  },
  {
   "cell_type": "markdown",
   "id": "d3ce8d06-8d50-4794-86dd-73590c563858",
   "metadata": {},
   "source": [
    "----\n",
    "<a name=\"Reading_the_Results\"></a>\n",
    "\n",
    "## Reading the Results"
   ]
  },
  {
   "cell_type": "markdown",
   "id": "7b67c478-ebd2-4c3e-84d3-a3b928276031",
   "metadata": {},
   "source": [
    "After the genetic algorithm is complete, we can retrieve the individuals that resulted in the lowest (best) fitness values by printing `my_evolver.hof`. These individuals are sorted according to fitness value, so to get the overal best individual, we can simply look at the first individual in the list. "
   ]
  },
  {
   "cell_type": "code",
   "execution_count": null,
   "id": "536a1652-60bf-49c1-b60d-e9053bf92558",
   "metadata": {},
   "outputs": [],
   "source": [
    "params = my_evolver.hof[0]\n",
    "fitness = params.fitness.values[0]\n",
    "print(f'Best Individual ({fitness}):\\n', params)"
   ]
  },
  {
   "cell_type": "markdown",
   "id": "bb834f0f-7d9d-49e6-9d20-955311bc639f",
   "metadata": {},
   "source": [
    "We can see the mask this individual generates by evaluating it, then plotting the result:"
   ]
  },
  {
   "cell_type": "code",
   "execution_count": null,
   "id": "a7aba6dc-e13a-46a5-80c1-7668ac3fa8b3",
   "metadata": {},
   "outputs": [],
   "source": [
    "seg = workflow(params)\n",
    "data = seg.runAlgo(mydata)"
   ]
  },
  {
   "cell_type": "code",
   "execution_count": null,
   "id": "a8079eba-44e1-4039-84a6-0e44ac041900",
   "metadata": {},
   "outputs": [],
   "source": [
    "for i in range(len(data)-1):\n",
    "    plt.figure(figsize=(20, 10))\n",
    "    plt.subplot(131)\n",
    "    plt.imshow(data[i])\n",
    "    plt.title(\"Original Image\")\n",
    "    plt.axis('off')\n",
    "\n",
    "    plt.subplot(132)\n",
    "    plt.imshow(data.mask[i])\n",
    "    plt.title(\"Segmentation\")\n",
    "    plt.axis('off')\n",
    "\n",
    "    plt.subplot(133)\n",
    "    plt.imshow(data.gtruth[i])\n",
    "    plt.title(\"Ground Truth\")\n",
    "    plt.axis('off')\n",
    "\n",
    "\n",
    "plt.tight_layout\n",
    "plt.show()"
   ]
  },
  {
   "cell_type": "code",
   "execution_count": null,
   "id": "75b6b493-b050-4abe-b47a-a1d8718df903",
   "metadata": {},
   "outputs": [],
   "source": [
    "len(data)"
   ]
  }
 ],
 "metadata": {
  "kernelspec": {
   "display_name": "Python 3 (ipykernel)",
   "language": "python",
   "name": "python3"
  },
  "language_info": {
   "codemirror_mode": {
    "name": "ipython",
    "version": 3
   },
   "file_extension": ".py",
   "mimetype": "text/x-python",
   "name": "python",
   "nbconvert_exporter": "python",
   "pygments_lexer": "ipython3",
   "version": "3.8.3"
  }
 },
 "nbformat": 4,
 "nbformat_minor": 5
}
