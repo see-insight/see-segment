{
 "cells": [
  {
   "cell_type": "markdown",
   "metadata": {},
   "source": [
    "# Data Download\n",
    "This notebook reaches out and downloads some common datasets for use with testing the SEE library.  We have provided a ```DataDownload``` script to help in downloading.  Running the script on the command line will default download all of the datasets (or you can just run this notebook)."
   ]
  },
  {
   "cell_type": "markdown",
   "metadata": {},
   "source": [
    "# KOMATSUNA Plant Dataset\n",
    "<img src=\"http://limu.ait.kyushu-u.ac.jp/~agri/komatsuna/setup.png\" width=\"50%\">\n",
    "\n",
    "## Website\n",
    "- http://limu.ait.kyushu-u.ac.jp/~agri/komatsuna/\n",
    "\n",
    "\n",
    "## Direct Links\n",
    "* http://limu.ait.kyushu-u.ac.jp/~agri/komatsuna/rgbd_plant.zip\n",
    "* http://limu.ait.kyushu-u.ac.jp/~agri/komatsuna/rgbd_label.zip\n",
    "        \n",
    "\n",
    "\n",
    "\n",
    "## Reference:\n",
    "Hideaki Uchiyama, Shunsuke Sakurai, Masashi Mishima, Daisaku Arita, Takashi Okayasu, Atsushi Shimada and Rin-ichiro Taniguchi, \"An easy-to-setup 3D phenotyping platform for KOMATSUNA dataset,\" ICCV Workshop on Computer Vision Problems in Plant Phenotyping, pp.2038-2045, 2017. [link](http://openaccess.thecvf.com/ICCV2017_workshops/ICCV2017_W29.py)\n",
    "\n"
   ]
  },
  {
   "cell_type": "code",
   "execution_count": null,
   "metadata": {},
   "outputs": [],
   "source": [
    "#The following code will download the dataset to the Images_data folder\n",
    "from see import DataDownload as dd\n",
    "\n",
    "dd.downloadKOMATSUNA(folder='./Image_Data/KOMATSUNA/')"
   ]
  },
  {
   "cell_type": "markdown",
   "metadata": {},
   "source": [
    "# Sky Dataset\n",
    "\n",
    "<img src=\"https://www.ime.usp.br/~eduardob/datasets/sky/images/sky_intro.png\">\n",
    "\n",
    "## Website\n",
    "*  https://www.ime.usp.br/~eduardob/datasets/sky/\n",
    "\n",
    "## Direct Links\n",
    "* https://www.ime.usp.br/~eduardob/datasets/sky/sky.zip\n",
    "\n",
    "## Reference:\n",
    "\n",
    "Eduardo B. Alexandre and Paulo A.V. Miranda. IFT-SLIC: Geração de Superpixels com Base em Agrupamento Iterativo Linear Simples e Transformada Imagem-Floresta. Master dissertation, IME - USP. "
   ]
  },
  {
   "cell_type": "code",
   "execution_count": null,
   "metadata": {},
   "outputs": [],
   "source": [
    "#The following code will download the dataset to the Images_data folder\n",
    "# NOTE: This dataset required some file conversions which is included in the following code. \n",
    "from see import DataDownload as dd\n",
    "\n",
    "dd.downloadSky(folder='./Image_Data/Sky/')"
   ]
  },
  {
   "cell_type": "markdown",
   "metadata": {},
   "source": [
    "\n",
    "# COSKEL Dataset\n",
    "\n",
    "## Website\n",
    "*  https://github.com/jkoteswarrao/Object-Co-skeletonization-with-Co-segmentation\n",
    "\n",
    "## Direct Links\n",
    "* https://github.com/jkoteswarrao/Object-Co-skeletonization-with-Co-segmentation/raw/master/CO-SKEL_v1.1.zip\n",
    "\n",
    "## References:\n",
    "\n",
    "[1] K. R. Jerripothula, J. Cai, J. Lu and J. Yuan, \"Object Co-skeletonization with Co-segmentation\", IEEE Conference on Computer Vision and Pattern Recognition (CVPR), Honolulu, USA, 2017, pp. 6205-6213.\n",
    "\n",
    "[2] K. R. Jerripothula, J. Cai, and J. Yuan, “CATS: Co-saliency Activated Tracklet Selection for Video Co-localization\" 2016 European Conference on Computer Vision (ECCV), Springer International Publishing, Amsterdam,The Netherlands, 2016, Part VII, pp. 187-202.\n",
    "\n",
    "[3] K. R. Jerripothula, J. Cai, F. Meng and J. Yuan, \"Automatic image co-segmentation using geometric mean saliency\" 2014 IEEE International Conference on Image Processing (ICIP), Paris, 2014, pp. 3277-3281.\n",
    "\n",
    "NOTE: Unzip the downloded folder in the root folder (or it's immediate one) of any drive. This is to ensure that absolute path of \"coskeletonization_CVPR17\" is as short as possible.\n",
    "download\n",
    "\n"
   ]
  },
  {
   "cell_type": "code",
   "execution_count": null,
   "metadata": {},
   "outputs": [],
   "source": [
    "from see import DataDownload as dd\n",
    "\n",
    "dd.downloadCOSKEL(folder='./Image_Data/CO-SKEL_v1.1/')"
   ]
  },
  {
   "cell_type": "markdown",
   "metadata": {},
   "source": [
    "# Future Resources\n",
    "\n",
    "Many of these datasets are cataloged in the following CVonline website:\n",
    "\n",
    "http://homepages.inf.ed.ac.uk/rbf/CVonline/Imagedbase.htm#segmentation\n"
   ]
  },
  {
   "cell_type": "markdown",
   "metadata": {},
   "source": [
    "https://www.irit.fr/~Sylvie.Chambon/CrackDataset.zip"
   ]
  },
  {
   "cell_type": "code",
   "execution_count": null,
   "metadata": {},
   "outputs": [],
   "source": [
    "from pathlib import Path\n",
    "\n",
    "def downloadCrackData(filename = 'CrackDataset.zip', \n",
    "                      folder = '.', \n",
    "                      url = 'https://www.irit.fr/~Sylvie.Chambon/CrackDataset.zip',\n",
    "                      force=True):\n",
    "    \n",
    "    from urllib.request import urlretrieve\n",
    "    import zipfile\n",
    "\n",
    "    zfile = Path(folder+filename)\n",
    "    if not zfile.is_file() or force:\n",
    "        print(f\"Downloading {filename} from {url}\")\n",
    "        urlretrieve(url,folder+filename)\n",
    "\n",
    "    print(f\"Unzipping {filename}\")\n",
    "    with zipfile.ZipFile(folder+filename, 'r') as zip_ref:\n",
    "        zip_ref.extractall(folder)\n",
    "    \n",
    "    print(f\"Converting files in {folder}\")\n",
    "    images, masks, outputs = getSkyFolderLists()\n",
    "    for i in masks:\n",
    "        print(f\"{i}\")\n",
    "        img = readpgm(i)\n",
    "        img.astype(np.uint8)\n",
    "        imageio.imsave(i,img)\n",
    "        \n",
    "    print(f\"Download and Convert Complete\")\n"
   ]
  },
  {
   "cell_type": "code",
   "execution_count": null,
   "metadata": {},
   "outputs": [],
   "source": [
    "downloadCrackData()"
   ]
  },
  {
   "cell_type": "markdown",
   "metadata": {},
   "source": []
  }
 ],
 "metadata": {
  "kernelspec": {
   "display_name": "Python 3",
   "language": "python",
   "name": "python3"
  },
  "language_info": {
   "codemirror_mode": {
    "name": "ipython",
    "version": 3
   },
   "file_extension": ".py",
   "mimetype": "text/x-python",
   "name": "python",
   "nbconvert_exporter": "python",
   "pygments_lexer": "ipython3",
   "version": "3.7.6"
  }
 },
 "nbformat": 4,
 "nbformat_minor": 2
}
