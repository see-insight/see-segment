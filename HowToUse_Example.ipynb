{
 "cells": [
  {
   "cell_type": "markdown",
   "metadata": {},
   "source": [
    "# Simple Evolutionary Exploration  Walkthrough\n",
    "\n",
    "This notebook contains instructions on how to use the SEE module, along with several examples. These instructions will cover the following parts: \n",
    "* [Import Image Files](#Import_Image_Files)\n",
    "* [Manual Search](#Manual_Search)\n",
    "* [Genetic Algorithm Search](#Genetic_Algorithm_Search)\n",
    "* [Reading the Results](#Reading_the_Results)"
   ]
  },
  {
   "cell_type": "markdown",
   "metadata": {
    "tags": []
   },
   "source": [
    "----\n",
    "<a name=\"Import_Image_Files\"></a>\n",
    "\n",
    "## Import Image Files"
   ]
  },
  {
   "cell_type": "markdown",
   "metadata": {},
   "source": [
    "First import the following packages:"
   ]
  },
  {
   "cell_type": "code",
   "execution_count": null,
   "metadata": {},
   "outputs": [],
   "source": [
    "%matplotlib inline\n",
    "import matplotlib.pylab as plt\n",
    "from see import Segmentors\n",
    "from see import JupyterGUI"
   ]
  },
  {
   "cell_type": "code",
   "execution_count": null,
   "metadata": {},
   "outputs": [],
   "source": [
    "#The following code will download the dataset to the Images_data folder\n",
    "from see import DataDownload as dd\n",
    "\n",
    "dd.downloadKOMATSUNA(folder='./Image_Data/KOMATSUNA/')"
   ]
  },
  {
   "cell_type": "code",
   "execution_count": null,
   "metadata": {},
   "outputs": [],
   "source": [
    "from imageio import v3 as imageio\n",
    "\n",
    "img1 = imageio.imread('Image_data/KOMATSUNA/rgbd_plant/rgb_00_000_00.png')\n",
    "gmask1 = imageio.imread('Image_data/KOMATSUNA/rgbd_label/label_00_000_00.png')\n",
    "\n",
    "img2 = imageio.imread('Image_data/KOMATSUNA/rgbd_plant/rgb_00_000_01.png')\n",
    "gmask2 = imageio.imread('Image_data/KOMATSUNA/rgbd_label/label_00_000_01.png')\n",
    "\n",
    "fig = plt.figure(figsize=(20, 20))\n",
    "my_ax = fig.add_subplot(1, 2, 1)\n",
    "my_ax.imshow(img1)\n",
    "my_ax = fig.add_subplot(1, 2, 2)\n",
    "my_ax.imshow(gmask1)"
   ]
  },
  {
   "cell_type": "code",
   "execution_count": null,
   "metadata": {},
   "outputs": [],
   "source": [
    "from see import base_classes\n",
    "\n",
    "# put data in a pipeline\n",
    "mydata = base_classes.pipedata()\n",
    "mydata.append(img1)\n",
    "mydata.append(img2)\n",
    "mydata.gtruth = []\n",
    "mydata.gtruth.append(gmask1)\n",
    "mydata.gtruth.append(gmask2)"
   ]
  },
  {
   "cell_type": "code",
   "execution_count": null,
   "metadata": {},
   "outputs": [],
   "source": [
    "mydata.gtruth"
   ]
  },
  {
   "cell_type": "markdown",
   "metadata": {},
   "source": [
    "----\n",
    "<a name=\"Genetic_Algorithm_Search\"></a>\n",
    "\n",
    "## Genetic Algorithm Search"
   ]
  },
  {
   "cell_type": "markdown",
   "metadata": {},
   "source": [
    "First import image files, as well as the following packages:"
   ]
  },
  {
   "cell_type": "code",
   "execution_count": null,
   "metadata": {},
   "outputs": [],
   "source": [
    "from see.Segmentors import segmentor\n",
    "from see.ColorSpace import colorspace\n",
    "from see.Workflow import workflow\n",
    "from see.Segment_Fitness import segment_fitness\n",
    "from see import base_classes, GeneticSearch\n",
    "\n",
    "#define an algorithm workflow\n",
    "workflow.addalgos([colorspace, segmentor, segment_fitness])"
   ]
  },
  {
   "cell_type": "markdown",
   "metadata": {},
   "source": [
    "To run the genetic algorithm, we need to initialize an instance of an evolver. The original image and ground truth segmentation image are inputs to it, along with an integer value for population size. This value sets how many indivudals are in our population. For this example, we'll set this number to be equal to 10."
   ]
  },
  {
   "cell_type": "code",
   "execution_count": null,
   "metadata": {},
   "outputs": [],
   "source": [
    "#TODO This needs to be fixed Using the new syntax.\n",
    "#my_evolver = GeneticSearch.Evolver(workflow, mydata, pop_size=10)\n",
    "my_evolver = GeneticSearch.Evolver(workflow, mydata, pop_size=10)"
   ]
  },
  {
   "cell_type": "markdown",
   "metadata": {},
   "source": [
    "Now that the evolver has been initialized, we can run the genetic algorithm for a specified number of generations (or iterations). Here we will set this number equal to 5."
   ]
  },
  {
   "cell_type": "code",
   "execution_count": null,
   "metadata": {},
   "outputs": [],
   "source": [
    "x = Segmentors.SlicO()"
   ]
  },
  {
   "cell_type": "code",
   "execution_count": null,
   "metadata": {},
   "outputs": [],
   "source": [
    "# warnings may appear when this runs\n",
    "population = my_evolver.run(ngen=3)"
   ]
  },
  {
   "cell_type": "code",
   "execution_count": null,
   "metadata": {},
   "outputs": [],
   "source": [
    "print(my_evolver.hof[0].fitness)"
   ]
  },
  {
   "cell_type": "markdown",
   "metadata": {
    "tags": []
   },
   "source": [
    "----\n",
    "<a name=\"Reading_the_Results\"></a>\n",
    "\n",
    "## Reading the Results"
   ]
  },
  {
   "cell_type": "markdown",
   "metadata": {},
   "source": [
    "After the genetic algorithm is complete, we can retrieve the individuals that resulted in the lowest (best) fitness values by printing `my_evolver.hof`. These individuals are sorted according to fitness value, so to get the overal best individual, we can simply look at the first individual in the list. "
   ]
  },
  {
   "cell_type": "code",
   "execution_count": null,
   "metadata": {},
   "outputs": [],
   "source": [
    "params = my_evolver.hof[0]\n",
    "fitness = params.fitness.values[0]\n",
    "print(f'Best Individual ({fitness}):\\n', params)"
   ]
  },
  {
   "cell_type": "markdown",
   "metadata": {},
   "source": [
    "We can see the mask this individual generates by evaluating it, then plotting the result:"
   ]
  },
  {
   "cell_type": "code",
   "execution_count": null,
   "metadata": {},
   "outputs": [],
   "source": [
    "seg = workflow(params)\n",
    "data = seg.runAlgo(mydata)\n",
    "\n",
    "plt.figure(figsize=(20, 10))\n",
    "plt.subplot(131)\n",
    "plt.imshow(data[0])\n",
    "plt.title(\"Original Image\")\n",
    "plt.axis('off')\n",
    "\n",
    "plt.subplot(132)\n",
    "plt.imshow(data[-1])\n",
    "plt.title(\"Segmentation\")\n",
    "plt.axis('off')\n",
    "\n",
    "plt.subplot(133)\n",
    "plt.imshow(data.gtruth)\n",
    "plt.title(\"Ground Truth\")\n",
    "plt.axis('off')\n",
    "\n",
    "\n",
    "plt.tight_layout\n",
    "plt.show()"
   ]
  },
  {
   "cell_type": "markdown",
   "metadata": {},
   "source": [
    "We can also use `FitnessFunction` to calculate the final fitness value for this algorithm:"
   ]
  },
  {
   "cell_type": "code",
   "execution_count": null,
   "metadata": {},
   "outputs": [],
   "source": [
    "print('Fitness Value: ', data.fitness)"
   ]
  }
 ],
 "metadata": {
  "kernelspec": {
   "display_name": "Python 3 (ipykernel)",
   "language": "python",
   "name": "python3"
  },
  "language_info": {
   "codemirror_mode": {
    "name": "ipython",
    "version": 3
   },
   "file_extension": ".py",
   "mimetype": "text/x-python",
   "name": "python",
   "nbconvert_exporter": "python",
   "pygments_lexer": "ipython3",
   "version": "3.8.3"
  }
 },
 "nbformat": 4,
 "nbformat_minor": 4
}
