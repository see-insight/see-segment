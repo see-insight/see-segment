{
 "cells": [
  {
   "cell_type": "markdown",
   "metadata": {},
   "source": [
    "# Colorspace Exploration\n",
    "\n",
    "\n",
    "##TODO Make a colorspace JupyterGUI\n"
   ]
  },
  {
   "cell_type": "markdown",
   "metadata": {},
   "source": [
    "----\n",
    "<a name=\"Import_Image_Files\"></a>\n",
    "\n",
    "## Import Image Files"
   ]
  },
  {
   "cell_type": "markdown",
   "metadata": {},
   "source": [
    "First import the following packages:"
   ]
  },
  {
   "cell_type": "code",
   "execution_count": null,
   "metadata": {},
   "outputs": [],
   "source": [
    "from see.base_classes import param_space"
   ]
  },
  {
   "cell_type": "code",
   "execution_count": null,
   "metadata": {},
   "outputs": [],
   "source": [
    "%matplotlib inline\n",
    "import matplotlib.pylab as plt\n",
    "import imageio\n",
    "from see.ColorSpace import colorspace \n",
    "from see import JupyterGUI"
   ]
  },
  {
   "cell_type": "markdown",
   "metadata": {},
   "source": [
    "Next, read in the image to be segmented, and the ground truth segmentation mask of the image:"
   ]
  },
  {
   "cell_type": "code",
   "execution_count": null,
   "metadata": {},
   "outputs": [],
   "source": [
    "data = JupyterGUI.pickimage()"
   ]
  },
  {
   "cell_type": "code",
   "execution_count": null,
   "metadata": {},
   "outputs": [],
   "source": [
    "cs = colorspace()\n",
    "data = cs.pipe(data)"
   ]
  },
  {
   "cell_type": "code",
   "execution_count": null,
   "metadata": {},
   "outputs": [],
   "source": [
    "from see.Segmentors import segmentor "
   ]
  },
  {
   "cell_type": "code",
   "execution_count": null,
   "metadata": {},
   "outputs": [],
   "source": [
    "seg = segmentor()"
   ]
  },
  {
   "cell_type": "code",
   "execution_count": null,
   "metadata": {},
   "outputs": [],
   "source": [
    "data = seg.pipe(data)\n",
    "plt.imshow(data.colorspace)"
   ]
  },
  {
   "cell_type": "code",
   "execution_count": null,
   "metadata": {},
   "outputs": [],
   "source": []
  },
  {
   "cell_type": "markdown",
   "metadata": {},
   "source": [
    "```\n",
    "Objects:\n",
    "\n",
    "Imagedata\n",
    "LabeledArray\n",
    "\n",
    "ImageData = Generator()\n",
    "ImageData = Preprocessor(ImageData)\n",
    "ImageData = Preprocessor(ImageData)\n",
    "LabeledArray = Segmentor(ImageData)\n",
    "Fitness = ArrayFitness(LabeledArray, LabeledArray)\n",
    "LabeledArray = PostProcessor(LabeledArray)\n",
    "Fitness = ArrayFitness(LabeledArray, LabeledArray)\n",
    "\n",
    "Workflow:\n",
    "    \n",
    "    algorithmList = [ Generator(), \n",
    "    \n",
    "    \n",
    "```\n"
   ]
  },
  {
   "cell_type": "raw",
   "metadata": {},
   "source": [
    "from see import Workflow, ColorSpace, PreProcess, Segmentors, PostProcess\n",
    "\n",
    "ws = Workflow([ ColorSpace(), PreProcess(), Segmentors(),  FitnessCheck(), Morphology(), FitnessCheck() ])"
   ]
  },
  {
   "cell_type": "raw",
   "metadata": {},
   "source": [
    "ws.evaluate(data.img, data.mask)"
   ]
  },
  {
   "cell_type": "raw",
   "metadata": {},
   "source": [
    "Colorspace()"
   ]
  }
 ],
 "metadata": {
  "kernelspec": {
   "display_name": "Python 3",
   "language": "python",
   "name": "python3"
  },
  "language_info": {
   "codemirror_mode": {
    "name": "ipython",
    "version": 3
   },
   "file_extension": ".py",
   "mimetype": "text/x-python",
   "name": "python",
   "nbconvert_exporter": "python",
   "pygments_lexer": "ipython3",
   "version": "3.7.6"
  }
 },
 "nbformat": 4,
 "nbformat_minor": 4
}
