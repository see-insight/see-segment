{
 "cells": [
  {
   "cell_type": "markdown",
   "id": "ad956236",
   "metadata": {},
   "source": [
    "# Explore ways to read/write params to/from a file\n",
    "\n"
   ]
  },
  {
   "cell_type": "code",
   "execution_count": 3,
   "id": "d245e1e2",
   "metadata": {},
   "outputs": [],
   "source": [
    "from see import base_classes "
   ]
  },
  {
   "cell_type": "code",
   "execution_count": 4,
   "id": "cd6ec603",
   "metadata": {},
   "outputs": [],
   "source": [
    "from see.Segmentors import segmentor\n",
    "from see.ColorSpace import colorspace\n",
    "from see.Workflow import workflow\n",
    "from see.Segment_Fitness import segment_fitness\n",
    "\n",
    "workflow.addalgos([colorspace, segmentor, segment_fitness])\n",
    "wf = workflow()"
   ]
  },
  {
   "cell_type": "markdown",
   "id": "aa19ae5f",
   "metadata": {},
   "source": [
    "----\n",
    "\n",
    "# Use Pickle to wrap entire algorithm object\n",
    "\n",
    "This works nice assuming the algorithm is what we want to write. Dosn't work in the genetic algoirthm since it may just be a list. Although it works fairly well."
   ]
  },
  {
   "cell_type": "code",
   "execution_count": 35,
   "id": "c1d1936e",
   "metadata": {},
   "outputs": [],
   "source": [
    "import pickle \n",
    "def append_algo_pickle(fpop_file, algorithm):\n",
    "    filehandler = open(fpop_file, 'ab') \n",
    "    pickle.dump(algorithm, filehandler)\n",
    "    \n",
    "def read_algo_pickle(fpop_file):\n",
    "    poplist = []\n",
    "    with (open(fpop_file, \"rb\")) as openfile:\n",
    "        while True:\n",
    "            try:\n",
    "                poplist.append(pickle.load(openfile))\n",
    "            except EOFError:\n",
    "                break\n",
    "    return poplist\n",
    "           "
   ]
  },
  {
   "cell_type": "code",
   "execution_count": 36,
   "id": "ecb8c446",
   "metadata": {},
   "outputs": [],
   "source": [
    "!rm pickle_test.pk"
   ]
  },
  {
   "cell_type": "code",
   "execution_count": 37,
   "id": "71afa4f0",
   "metadata": {},
   "outputs": [],
   "source": [
    "append_algo_pickle('pickle_test.pk', wf)"
   ]
  },
  {
   "cell_type": "code",
   "execution_count": 38,
   "id": "39da81bb",
   "metadata": {},
   "outputs": [
    {
     "data": {
      "text/plain": [
       "[<see.Workflow.workflow at 0x7fb48809c640>]"
      ]
     },
     "execution_count": 38,
     "metadata": {},
     "output_type": "execute_result"
    }
   ],
   "source": [
    "pop = read_algo_pickle('pickle_test.pk')\n",
    "pop"
   ]
  },
  {
   "cell_type": "code",
   "execution_count": 39,
   "id": "cb475581",
   "metadata": {},
   "outputs": [
    {
     "name": "stdout",
     "output_type": "stream",
     "text": [
      "�\u0004�'\u0001\u0000\u0000\u0000\u0000\u0000\u0000�\f",
      "see.Workflow��\bworkflow���)��}��\u0006params��\u0010see.base_classes��\u000b",
      "param_space���)��(�\r\n",
      "colorspace��\u0003RGB��\f",
      "multichannel���\u0007channel�K\u0002�\talgorithm��\u000eColorThreshold��\u0006alpha1�G?�333333�\u0006alpha2�G?�\u0000\u0000\u0000\u0000\u0000\u0000�\u0005beta1�G?ə������\u0005beta2�G?�ffffff�\u0006gamma1�G?�333333�\u0006gamma2�G?�\u0000\u0000\u0000\u0000\u0000\u0000�\r\n",
      "n_segments�K\u0002�\bmax_iter�K\r\n",
      "usb."
     ]
    }
   ],
   "source": [
    "!cat 'pickle_test.pk'"
   ]
  },
  {
   "cell_type": "markdown",
   "id": "5bf2abd8",
   "metadata": {},
   "source": [
    "---\n",
    "This version just saves the list"
   ]
  },
  {
   "cell_type": "code",
   "execution_count": 40,
   "id": "44cd4c26",
   "metadata": {},
   "outputs": [],
   "source": [
    "!rm pickle_test.pk"
   ]
  },
  {
   "cell_type": "code",
   "execution_count": 41,
   "id": "0c367adf",
   "metadata": {},
   "outputs": [],
   "source": [
    "append_algo_pickle('pickle_test.pk', wf.params.tolist())"
   ]
  },
  {
   "cell_type": "code",
   "execution_count": 42,
   "id": "f7bf319a",
   "metadata": {},
   "outputs": [
    {
     "data": {
      "text/plain": [
       "[['RGB', True, 2, 'ColorThreshold', 0.3, 0.5, 0.2, 0.7, 0.3, 0.5, 2, 10]]"
      ]
     },
     "execution_count": 42,
     "metadata": {},
     "output_type": "execute_result"
    }
   ],
   "source": [
    "pop = read_algo_pickle('pickle_test.pk')\n",
    "pop"
   ]
  },
  {
   "cell_type": "markdown",
   "id": "1cdcfba9",
   "metadata": {},
   "source": [
    "---\n",
    "\n",
    "# Use JSON\n",
    "\n",
    "Read in as a json file. This also dosn't work as well since we can't append additional values to the list."
   ]
  },
  {
   "cell_type": "code",
   "execution_count": 20,
   "id": "819243cc",
   "metadata": {},
   "outputs": [],
   "source": [
    "import json\n",
    "def append_algo_json(fpop_file, algorithm):\n",
    "    with open('json_test.json', 'w', encoding=\"utf8\") as f:\n",
    "        json.dump(algorithm, f)\n",
    "\n",
    "def read_algo_json(fpop_file):\n",
    "    with open(fpop_file, 'r') as f:\n",
    "        population = json.load(f)\n",
    "    return population"
   ]
  },
  {
   "cell_type": "code",
   "execution_count": 21,
   "id": "d76db8df",
   "metadata": {},
   "outputs": [],
   "source": [
    "!rm 'json_test.json'"
   ]
  },
  {
   "cell_type": "code",
   "execution_count": 22,
   "id": "adaf5c94",
   "metadata": {},
   "outputs": [],
   "source": [
    "append_algo_json('json_test.json', wf.params)"
   ]
  },
  {
   "cell_type": "code",
   "execution_count": 23,
   "id": "16057320",
   "metadata": {},
   "outputs": [
    {
     "name": "stdout",
     "output_type": "stream",
     "text": [
      "{\"colorspace\": \"RGB\", \"multichannel\": true, \"channel\": 2, \"algorithm\": \"ColorThreshold\", \"alpha1\": 0.3, \"alpha2\": 0.5, \"beta1\": 0.2, \"beta2\": 0.7, \"gamma1\": 0.3, \"gamma2\": 0.5, \"n_segments\": 2, \"max_iter\": 10}"
     ]
    }
   ],
   "source": [
    "!cat 'json_test.json'"
   ]
  },
  {
   "cell_type": "code",
   "execution_count": 24,
   "id": "9a09fd02",
   "metadata": {},
   "outputs": [],
   "source": [
    "pop = read_algo_json('json_test.json')"
   ]
  },
  {
   "cell_type": "markdown",
   "id": "4419b164",
   "metadata": {},
   "source": [
    "----\n",
    "\n",
    "# Basic Vector\n",
    "\n",
    "This is a more direct way to write out the list. The nice thing about this format is it is human readable.  Maybe not as flexible but easier to work wiht."
   ]
  },
  {
   "cell_type": "code",
   "execution_count": null,
   "id": "e18b5aae",
   "metadata": {},
   "outputs": [],
   "source": [
    "def write_algo_vector(fpop_file, algorithm):\n",
    "    with open(f\"{fpop_file}\", 'a') as myfile:\n",
    "        myfile.write(f'{algorithm.params.tolist().__str__()}\\n')\n",
    "        \n",
    "def read_algo_vector(fpop_file):\n",
    "    inlist = []\n",
    "    with open(f\"{fpop_file}\",'r') as myfile:\n",
    "        for line in myfile:\n",
    "            inlist.append(eval(line))\n",
    "    return inlist"
   ]
  },
  {
   "cell_type": "code",
   "execution_count": null,
   "id": "67481d26",
   "metadata": {},
   "outputs": [],
   "source": [
    "!rm 'list_test.txt'"
   ]
  },
  {
   "cell_type": "code",
   "execution_count": null,
   "id": "15274274",
   "metadata": {},
   "outputs": [],
   "source": [
    "write_algo_vector('list_test.txt', wf)"
   ]
  },
  {
   "cell_type": "code",
   "execution_count": null,
   "id": "2c4952ba",
   "metadata": {},
   "outputs": [],
   "source": [
    "!cat List_test.txt"
   ]
  },
  {
   "cell_type": "code",
   "execution_count": null,
   "id": "e80518c5",
   "metadata": {},
   "outputs": [],
   "source": [
    "params_as_list = read_algo_vector('list_test.txt')\n",
    "params_as_list"
   ]
  },
  {
   "cell_type": "markdown",
   "id": "eb552fd5",
   "metadata": {},
   "source": [
    "----\n",
    "\n",
    "# Basic Dictionary\n",
    "\n",
    "Same idea as a list but as a dictionary.  Has the same problem as the basic pickle. "
   ]
  },
  {
   "cell_type": "code",
   "execution_count": null,
   "id": "7f972197",
   "metadata": {},
   "outputs": [],
   "source": [
    "def write_algo_dict(fpop_file, params):\n",
    "    with open(f\"{fpop_file}\", 'a') as myfile:\n",
    "        myfile.write(f'{dict(params).__str__()}\\n')\n",
    "        \n",
    "def read_algo_dict(fpop_file):\n",
    "    inlist = []\n",
    "    with open(f\"{fpop_file}\",'r') as myfile:\n",
    "        for line in myfile:\n",
    "            inlist.append(eval(line))\n",
    "    return inlist"
   ]
  },
  {
   "cell_type": "code",
   "execution_count": null,
   "id": "454d10c1",
   "metadata": {},
   "outputs": [],
   "source": [
    "!rm 'dict_test.txt'"
   ]
  },
  {
   "cell_type": "code",
   "execution_count": null,
   "id": "f55a94f6",
   "metadata": {},
   "outputs": [],
   "source": [
    "write_algo_dict('dict_test.txt', wf.params)"
   ]
  },
  {
   "cell_type": "code",
   "execution_count": null,
   "id": "9e8992f5",
   "metadata": {},
   "outputs": [],
   "source": [
    "!cat dict_test.txt"
   ]
  },
  {
   "cell_type": "code",
   "execution_count": null,
   "id": "9297f891",
   "metadata": {},
   "outputs": [],
   "source": [
    "params_as_dict = read_algo_vector('dict_test.txt')\n",
    "params_as_dict"
   ]
  },
  {
   "cell_type": "code",
   "execution_count": null,
   "id": "6a60e3fb",
   "metadata": {},
   "outputs": [],
   "source": []
  }
 ],
 "metadata": {
  "kernelspec": {
   "display_name": "Python 3",
   "language": "python",
   "name": "python3"
  },
  "language_info": {
   "codemirror_mode": {
    "name": "ipython",
    "version": 3
   },
   "file_extension": ".py",
   "mimetype": "text/x-python",
   "name": "python",
   "nbconvert_exporter": "python",
   "pygments_lexer": "ipython3",
   "version": "3.9.4"
  }
 },
 "nbformat": 4,
 "nbformat_minor": 5
}
